{
  "nbformat": 4,
  "nbformat_minor": 0,
  "metadata": {
    "colab": {
      "name": "VoIP Smart Number Classification.ipynb",
      "version": "0.3.2",
      "provenance": [],
      "collapsed_sections": []
    },
    "kernelspec": {
      "name": "python3",
      "display_name": "Python 3"
    },
    "accelerator": "GPU"
  },
  "cells": [
    {
      "metadata": {
        "id": "uz8yEFjN4QeL",
        "colab_type": "text"
      },
      "cell_type": "markdown",
      "source": [
        "# VoIP Smart Number Classification\n",
        "\n",
        "**Outcome**\n",
        "- mplemented a Seq2Seq classifier model.\n",
        "- Proposed a model that able to achieve over a 95% accuracy in classification of VoIP numbers. \n",
        "- The model was tested around 3000 VoIP numbers in four categories."
      ]
    },
    {
      "metadata": {
        "id": "OyfyAPWP4VDl",
        "colab_type": "text"
      },
      "cell_type": "markdown",
      "source": [
        "# Prepare DS"
      ]
    },
    {
      "metadata": {
        "id": "-Z2R-O6P80Wd",
        "colab_type": "code",
        "outputId": "c1db02c1-374d-4281-9c16-30840313b072",
        "colab": {
          "base_uri": "https://localhost:8080/",
          "height": 34
        }
      },
      "cell_type": "code",
      "source": [
        "import subprocess\n",
        "\n",
        "\n",
        "data_labeled = 'https://www.dropbox.com/.../ds_94220_labeled.csv'\n",
        "data_unlabeled = 'https://www.dropbox.com/.../ds_94220_unlabeled.csv'\n",
        "current_dir = '/tmp/voip-prj'\n",
        "\n",
        "subprocess.run([\"rm\", \"-rf\", current_dir])\n",
        "subprocess.run([\"wget\", data_labeled, \"-P\", current_dir])\n",
        "subprocess.run([\"wget\", data_unlabeled, \"-P\", current_dir])\n",
        "\n",
        "!ls /tmp/voip-prj/"
      ],
      "execution_count": 0,
      "outputs": [
        {
          "output_type": "stream",
          "text": [
            "ds_94220_labeled.csv  ds_94220_unlabeled.csv\n"
          ],
          "name": "stdout"
        }
      ]
    },
    {
      "metadata": {
        "id": "u34o1s9x4X7x",
        "colab_type": "text"
      },
      "cell_type": "markdown",
      "source": [
        "# Import Packages"
      ]
    },
    {
      "metadata": {
        "id": "7PbGf9df55Ok",
        "colab_type": "code",
        "colab": {}
      },
      "cell_type": "code",
      "source": [
        "!pip install -U -q xlrd\n",
        "!pip install -U -q scikit-learn\n",
        "!pip install -U -q openpyxl\n",
        "!pip install -U -q keras"
      ],
      "execution_count": 0,
      "outputs": []
    },
    {
      "metadata": {
        "id": "dhByoRpy7svS",
        "colab_type": "code",
        "colab": {}
      },
      "cell_type": "code",
      "source": [
        "# OpenCV\n",
        "!apt-get -qq install -y libsm6 libxext6 && pip install -q -U opencv-python\n",
        "\n",
        "# GraphViz\n",
        "!apt-get -qq install -y graphviz && pip install -q pydot\n",
        "\n",
        "# 7zip\n",
        "!apt-get -qq install -y libarchive-dev && pip install -q -U libarchive"
      ],
      "execution_count": 0,
      "outputs": []
    },
    {
      "metadata": {
        "id": "FpiFrw6S4uUL",
        "colab_type": "code",
        "outputId": "69fc83ea-2e45-4e8b-910d-04da61594758",
        "colab": {
          "base_uri": "https://localhost:8080/",
          "height": 34
        }
      },
      "cell_type": "code",
      "source": [
        "import pandas as pd\n",
        "import numpy as np\n",
        "import time\n",
        "import os\n",
        "import sys\n",
        "\n",
        "import matplotlib\n",
        "from matplotlib import pyplot as plt\n",
        "\n",
        "import keras\n",
        "from keras.datasets import mnist\n",
        "from keras.models import Model, Sequential\n",
        "from keras.layers import Input, Dense, TimeDistributed\n",
        "from keras.layers import SimpleRNN, LSTM\n",
        "from keras import initializers\n",
        "from keras.optimizers import RMSprop\n",
        "\n",
        "from sklearn.model_selection import train_test_split\n",
        "from sklearn.utils import shuffle\n",
        "\n",
        "%matplotlib inline"
      ],
      "execution_count": 0,
      "outputs": [
        {
          "output_type": "stream",
          "text": [
            "Using TensorFlow backend.\n"
          ],
          "name": "stderr"
        }
      ]
    },
    {
      "metadata": {
        "id": "vBRpIMHR4x1x",
        "colab_type": "text"
      },
      "cell_type": "markdown",
      "source": [
        "# Load the data"
      ]
    },
    {
      "metadata": {
        "id": "XtsyQXFE4y8C",
        "colab_type": "code",
        "outputId": "673d2e46-2b0b-45da-8187-dc135d8f513e",
        "colab": {
          "base_uri": "https://localhost:8080/",
          "height": 204
        }
      },
      "cell_type": "code",
      "source": [
        "# Training parameters.\n",
        "batch_size = 32\n",
        "num_classes = 4\n",
        "epochs = 80\n",
        "\n",
        "# Embedding dimensions.\n",
        "row_hidden = 256\n",
        "col_hidden = 256\n",
        "\n",
        "\n",
        "data = pd.read_csv(os.path.join(current_dir, 'ds_94220_labeled.csv'))\n",
        "classes = list(set(data['Group'].as_matrix()))\n",
        "classes.sort()\n",
        "\n",
        "data['Group'] = data['Group'].apply(lambda x: classes.index(int(x)))\n",
        "data.head()"
      ],
      "execution_count": 0,
      "outputs": [
        {
          "output_type": "execute_result",
          "data": {
            "text/html": [
              "<div>\n",
              "<style scoped>\n",
              "    .dataframe tbody tr th:only-of-type {\n",
              "        vertical-align: middle;\n",
              "    }\n",
              "\n",
              "    .dataframe tbody tr th {\n",
              "        vertical-align: top;\n",
              "    }\n",
              "\n",
              "    .dataframe thead th {\n",
              "        text-align: right;\n",
              "    }\n",
              "</style>\n",
              "<table border=\"1\" class=\"dataframe\">\n",
              "  <thead>\n",
              "    <tr style=\"text-align: right;\">\n",
              "      <th></th>\n",
              "      <th>Telephone</th>\n",
              "      <th>Group</th>\n",
              "    </tr>\n",
              "  </thead>\n",
              "  <tbody>\n",
              "    <tr>\n",
              "      <th>0</th>\n",
              "      <td>9422072686</td>\n",
              "      <td>0</td>\n",
              "    </tr>\n",
              "    <tr>\n",
              "      <th>1</th>\n",
              "      <td>9422047512</td>\n",
              "      <td>0</td>\n",
              "    </tr>\n",
              "    <tr>\n",
              "      <th>2</th>\n",
              "      <td>9422039760</td>\n",
              "      <td>0</td>\n",
              "    </tr>\n",
              "    <tr>\n",
              "      <th>3</th>\n",
              "      <td>9422075296</td>\n",
              "      <td>0</td>\n",
              "    </tr>\n",
              "    <tr>\n",
              "      <th>4</th>\n",
              "      <td>9422093687</td>\n",
              "      <td>0</td>\n",
              "    </tr>\n",
              "  </tbody>\n",
              "</table>\n",
              "</div>"
            ],
            "text/plain": [
              "    Telephone  Group\n",
              "0  9422072686      0\n",
              "1  9422047512      0\n",
              "2  9422039760      0\n",
              "3  9422075296      0\n",
              "4  9422093687      0"
            ]
          },
          "metadata": {
            "tags": []
          },
          "execution_count": 5
        }
      ]
    },
    {
      "metadata": {
        "id": "7AOUZm_x6Gkt",
        "colab_type": "code",
        "outputId": "98ec8583-6aa6-495f-8c92-d593fe4163e9",
        "colab": {
          "base_uri": "https://localhost:8080/",
          "height": 204
        }
      },
      "cell_type": "code",
      "source": [
        "udata = pd.read_csv(os.path.join(current_dir, 'ds_94220_unlabeled.csv'), header=None)\n",
        "udata.columns = ['Telephone']\n",
        "udata['length'] = udata['Telephone'].apply(lambda x: len([digit for digit in str(x)]))\n",
        "udata.head()"
      ],
      "execution_count": 0,
      "outputs": [
        {
          "output_type": "execute_result",
          "data": {
            "text/html": [
              "<div>\n",
              "<style scoped>\n",
              "    .dataframe tbody tr th:only-of-type {\n",
              "        vertical-align: middle;\n",
              "    }\n",
              "\n",
              "    .dataframe tbody tr th {\n",
              "        vertical-align: top;\n",
              "    }\n",
              "\n",
              "    .dataframe thead th {\n",
              "        text-align: right;\n",
              "    }\n",
              "</style>\n",
              "<table border=\"1\" class=\"dataframe\">\n",
              "  <thead>\n",
              "    <tr style=\"text-align: right;\">\n",
              "      <th></th>\n",
              "      <th>Telephone</th>\n",
              "      <th>length</th>\n",
              "    </tr>\n",
              "  </thead>\n",
              "  <tbody>\n",
              "    <tr>\n",
              "      <th>0</th>\n",
              "      <td>9422000000</td>\n",
              "      <td>10</td>\n",
              "    </tr>\n",
              "    <tr>\n",
              "      <th>1</th>\n",
              "      <td>9422000001</td>\n",
              "      <td>10</td>\n",
              "    </tr>\n",
              "    <tr>\n",
              "      <th>2</th>\n",
              "      <td>9422000002</td>\n",
              "      <td>10</td>\n",
              "    </tr>\n",
              "    <tr>\n",
              "      <th>3</th>\n",
              "      <td>9422000003</td>\n",
              "      <td>10</td>\n",
              "    </tr>\n",
              "    <tr>\n",
              "      <th>4</th>\n",
              "      <td>9422000004</td>\n",
              "      <td>10</td>\n",
              "    </tr>\n",
              "  </tbody>\n",
              "</table>\n",
              "</div>"
            ],
            "text/plain": [
              "    Telephone  length\n",
              "0  9422000000      10\n",
              "1  9422000001      10\n",
              "2  9422000002      10\n",
              "3  9422000003      10\n",
              "4  9422000004      10"
            ]
          },
          "metadata": {
            "tags": []
          },
          "execution_count": 6
        }
      ]
    },
    {
      "metadata": {
        "id": "NlEbP_9i6Yds",
        "colab_type": "code",
        "outputId": "0f22aaa2-44aa-4e72-db5a-8fa701c7cff9",
        "colab": {
          "base_uri": "https://localhost:8080/",
          "height": 51
        }
      },
      "cell_type": "code",
      "source": [
        "numbers = data['Telephone'].as_matrix()\n",
        "groups = data['Group'].as_matrix()\n",
        "\n",
        "print(len(numbers))\n",
        "print(len(groups))"
      ],
      "execution_count": 0,
      "outputs": [
        {
          "output_type": "stream",
          "text": [
            "5168\n",
            "5168\n"
          ],
          "name": "stdout"
        }
      ]
    },
    {
      "metadata": {
        "id": "voUdlhvO6iLS",
        "colab_type": "text"
      },
      "cell_type": "markdown",
      "source": [
        "# Preprocessing"
      ]
    },
    {
      "metadata": {
        "id": "aSbqG6vk6cCq",
        "colab_type": "code",
        "outputId": "e1224111-b289-4bb8-c849-09b23bf46ecb",
        "colab": {
          "base_uri": "https://localhost:8080/",
          "height": 34
        }
      },
      "cell_type": "code",
      "source": [
        "ni, mi = numbers.shape[0], list(set([len([int(n) for n in str(number)]) for number in numbers]))[0]\n",
        "\n",
        "print('X: {}*{}'.format(ni, mi))"
      ],
      "execution_count": 0,
      "outputs": [
        {
          "output_type": "stream",
          "text": [
            "X: 5168*10\n"
          ],
          "name": "stdout"
        }
      ]
    },
    {
      "metadata": {
        "id": "TYwggZGH6ggS",
        "colab_type": "code",
        "colab": {}
      },
      "cell_type": "code",
      "source": [
        "X = np.zeros((ni, mi))\n",
        "             \n",
        "for i in range(len(numbers)):\n",
        "    X[i] = np.array([int(n) for n in str(numbers[i])])\n",
        "\n",
        "X = X.reshape((-1, 1, mi)).astype(np.int32)\n",
        "Y = groups.astype(np.int32)"
      ],
      "execution_count": 0,
      "outputs": []
    },
    {
      "metadata": {
        "id": "H97OcabV6lWB",
        "colab_type": "code",
        "colab": {}
      },
      "cell_type": "code",
      "source": [
        "Xs, Ys = shuffle(X, Y, random_state=42)"
      ],
      "execution_count": 0,
      "outputs": []
    },
    {
      "metadata": {
        "id": "gdazMM3L6nqx",
        "colab_type": "code",
        "colab": {}
      },
      "cell_type": "code",
      "source": [
        "x_train, x_test, y_train, y_test = train_test_split(Xs, Ys, test_size=0.1, random_state=42)"
      ],
      "execution_count": 0,
      "outputs": []
    },
    {
      "metadata": {
        "id": "ubS02o2-6ot5",
        "colab_type": "code",
        "outputId": "6f097d24-644d-4d36-d76d-9b3ec2617dba",
        "colab": {
          "base_uri": "https://localhost:8080/",
          "height": 68
        }
      },
      "cell_type": "code",
      "source": [
        "# Reshapes data to 4D for Hierarchical RNN.\n",
        "x_train = x_train.reshape(x_train.shape[0], 1, mi, 1)\n",
        "x_test = x_test.reshape(x_test.shape[0], 1, mi, 1)\n",
        "x_train = x_train.astype('float32')\n",
        "x_test = x_test.astype('float32')\n",
        "\n",
        "print('x_train shape:', x_train.shape)\n",
        "print(x_train.shape[0], 'train samples')\n",
        "print(x_test.shape[0], 'test samples')"
      ],
      "execution_count": 0,
      "outputs": [
        {
          "output_type": "stream",
          "text": [
            "x_train shape: (4651, 1, 10, 1)\n",
            "4651 train samples\n",
            "517 test samples\n"
          ],
          "name": "stdout"
        }
      ]
    },
    {
      "metadata": {
        "id": "3nkLu3iD6pyy",
        "colab_type": "code",
        "colab": {}
      },
      "cell_type": "code",
      "source": [
        "# Converts class vectors to binary class matrices.\n",
        "y_train = keras.utils.to_categorical(y_train, num_classes)\n",
        "y_test = keras.utils.to_categorical(y_test, num_classes)"
      ],
      "execution_count": 0,
      "outputs": []
    },
    {
      "metadata": {
        "id": "PiABQsjU6sDg",
        "colab_type": "code",
        "outputId": "047c59c2-f725-40e6-dcc0-1dbba045e49a",
        "colab": {
          "base_uri": "https://localhost:8080/",
          "height": 34
        }
      },
      "cell_type": "code",
      "source": [
        "row, col, pixel = x_train.shape[1:]\n",
        "\n",
        "print('row {}, col {}, pixel {}'.format(row, col, pixel))"
      ],
      "execution_count": 0,
      "outputs": [
        {
          "output_type": "stream",
          "text": [
            "row 1, col 10, pixel 1\n"
          ],
          "name": "stdout"
        }
      ]
    },
    {
      "metadata": {
        "id": "S3d6P3Id6zce",
        "colab_type": "text"
      },
      "cell_type": "markdown",
      "source": [
        "# Implement the model"
      ]
    },
    {
      "metadata": {
        "id": "Aq6BPzpl6tAI",
        "colab_type": "code",
        "outputId": "78259419-c5a0-4176-fb46-1010838c72a0",
        "colab": {
          "base_uri": "https://localhost:8080/",
          "height": 343
        }
      },
      "cell_type": "code",
      "source": [
        "# 4D input.\n",
        "x = Input(shape=(row, col, pixel))\n",
        "\n",
        "# Encodes a row of pixels using TimeDistributed Wrapper.\n",
        "encoded_rows = TimeDistributed(LSTM(row_hidden))(x)\n",
        "\n",
        "# Encodes columns of encoded rows.\n",
        "encoded_columns = LSTM(col_hidden)(encoded_rows)\n",
        "\n",
        "prediction = Dense(num_classes, activation='softmax')(encoded_columns)\n",
        "\n",
        "model = Model(x, prediction)\n",
        "model.compile(loss='categorical_crossentropy', optimizer='adam', metrics=['accuracy'])\n",
        "\n",
        "model.summary()"
      ],
      "execution_count": 0,
      "outputs": [
        {
          "output_type": "stream",
          "text": [
            "WARNING:tensorflow:From /usr/local/lib/python3.6/dist-packages/tensorflow/python/framework/op_def_library.py:263: colocate_with (from tensorflow.python.framework.ops) is deprecated and will be removed in a future version.\n",
            "Instructions for updating:\n",
            "Colocations handled automatically by placer.\n",
            "_________________________________________________________________\n",
            "Layer (type)                 Output Shape              Param #   \n",
            "=================================================================\n",
            "input_1 (InputLayer)         (None, 1, 10, 1)          0         \n",
            "_________________________________________________________________\n",
            "time_distributed_1 (TimeDist (None, 1, 256)            264192    \n",
            "_________________________________________________________________\n",
            "lstm_2 (LSTM)                (None, 256)               525312    \n",
            "_________________________________________________________________\n",
            "dense_1 (Dense)              (None, 4)                 1028      \n",
            "=================================================================\n",
            "Total params: 790,532\n",
            "Trainable params: 790,532\n",
            "Non-trainable params: 0\n",
            "_________________________________________________________________\n"
          ],
          "name": "stdout"
        }
      ]
    },
    {
      "metadata": {
        "id": "eHbNkToo63Zw",
        "colab_type": "code",
        "outputId": "d61ca92b-4d7d-4a23-b82b-770bac4d6979",
        "colab": {
          "base_uri": "https://localhost:8080/",
          "height": 2825
        }
      },
      "cell_type": "code",
      "source": [
        "history = model.fit(x_train, y_train, batch_size=batch_size, epochs=epochs, verbose=1, validation_data=(x_test, y_test))"
      ],
      "execution_count": 0,
      "outputs": [
        {
          "output_type": "stream",
          "text": [
            "WARNING:tensorflow:From /usr/local/lib/python3.6/dist-packages/tensorflow/python/ops/math_ops.py:3066: to_int32 (from tensorflow.python.ops.math_ops) is deprecated and will be removed in a future version.\n",
            "Instructions for updating:\n",
            "Use tf.cast instead.\n",
            "Train on 4651 samples, validate on 517 samples\n",
            "Epoch 1/80\n",
            "4651/4651 [==============================] - 6s 1ms/step - loss: 1.2324 - acc: 0.4476 - val_loss: 1.1575 - val_acc: 0.4700\n",
            "Epoch 2/80\n",
            "4651/4651 [==============================] - 5s 996us/step - loss: 1.0683 - acc: 0.5126 - val_loss: 1.0045 - val_acc: 0.5493\n",
            "Epoch 3/80\n",
            "4651/4651 [==============================] - 5s 1ms/step - loss: 0.9367 - acc: 0.5786 - val_loss: 0.8839 - val_acc: 0.5938\n",
            "Epoch 4/80\n",
            "4651/4651 [==============================] - 5s 1000us/step - loss: 0.8103 - acc: 0.6691 - val_loss: 0.7305 - val_acc: 0.7118\n",
            "Epoch 5/80\n",
            "4651/4651 [==============================] - 5s 980us/step - loss: 0.6681 - acc: 0.7459 - val_loss: 0.6140 - val_acc: 0.7544\n",
            "Epoch 6/80\n",
            "4651/4651 [==============================] - 5s 994us/step - loss: 0.5814 - acc: 0.7794 - val_loss: 0.6434 - val_acc: 0.7524\n",
            "Epoch 7/80\n",
            "4651/4651 [==============================] - 5s 994us/step - loss: 0.5182 - acc: 0.8061 - val_loss: 0.5031 - val_acc: 0.8085\n",
            "Epoch 8/80\n",
            "4651/4651 [==============================] - 5s 999us/step - loss: 0.4608 - acc: 0.8308 - val_loss: 0.4777 - val_acc: 0.8182\n",
            "Epoch 9/80\n",
            "4651/4651 [==============================] - 5s 992us/step - loss: 0.4040 - acc: 0.8613 - val_loss: 0.4690 - val_acc: 0.8279\n",
            "Epoch 10/80\n",
            "4651/4651 [==============================] - 5s 1000us/step - loss: 0.3819 - acc: 0.8613 - val_loss: 0.4024 - val_acc: 0.8723\n",
            "Epoch 11/80\n",
            "4651/4651 [==============================] - 5s 999us/step - loss: 0.3428 - acc: 0.8807 - val_loss: 0.3836 - val_acc: 0.8627\n",
            "Epoch 12/80\n",
            "4651/4651 [==============================] - 5s 1ms/step - loss: 0.3231 - acc: 0.8888 - val_loss: 0.4330 - val_acc: 0.8240\n",
            "Epoch 13/80\n",
            "4651/4651 [==============================] - 5s 994us/step - loss: 0.3034 - acc: 0.8934 - val_loss: 0.3700 - val_acc: 0.8859\n",
            "Epoch 14/80\n",
            "4651/4651 [==============================] - 5s 988us/step - loss: 0.2789 - acc: 0.9037 - val_loss: 0.3843 - val_acc: 0.8685\n",
            "Epoch 15/80\n",
            "4651/4651 [==============================] - 5s 1ms/step - loss: 0.2696 - acc: 0.9058 - val_loss: 0.3687 - val_acc: 0.8820\n",
            "Epoch 16/80\n",
            "4651/4651 [==============================] - 5s 1ms/step - loss: 0.2469 - acc: 0.9170 - val_loss: 0.3461 - val_acc: 0.8917\n",
            "Epoch 17/80\n",
            "4651/4651 [==============================] - 5s 995us/step - loss: 0.2306 - acc: 0.9239 - val_loss: 0.3756 - val_acc: 0.8878\n",
            "Epoch 18/80\n",
            "4651/4651 [==============================] - 5s 991us/step - loss: 0.2172 - acc: 0.9263 - val_loss: 0.3533 - val_acc: 0.8917\n",
            "Epoch 19/80\n",
            "4651/4651 [==============================] - 5s 1ms/step - loss: 0.2091 - acc: 0.9312 - val_loss: 0.3462 - val_acc: 0.9052\n",
            "Epoch 20/80\n",
            "4651/4651 [==============================] - 5s 1ms/step - loss: 0.2037 - acc: 0.9331 - val_loss: 0.3631 - val_acc: 0.8936\n",
            "Epoch 21/80\n",
            "4651/4651 [==============================] - 5s 999us/step - loss: 0.1889 - acc: 0.9372 - val_loss: 0.3269 - val_acc: 0.9149\n",
            "Epoch 22/80\n",
            "4651/4651 [==============================] - 5s 997us/step - loss: 0.1839 - acc: 0.9383 - val_loss: 0.3503 - val_acc: 0.9168\n",
            "Epoch 23/80\n",
            "4651/4651 [==============================] - 5s 1ms/step - loss: 0.1599 - acc: 0.9467 - val_loss: 0.3391 - val_acc: 0.9072\n",
            "Epoch 24/80\n",
            "4651/4651 [==============================] - 5s 1ms/step - loss: 0.1530 - acc: 0.9467 - val_loss: 0.3298 - val_acc: 0.9072\n",
            "Epoch 25/80\n",
            "4651/4651 [==============================] - 5s 994us/step - loss: 0.1620 - acc: 0.9447 - val_loss: 0.3659 - val_acc: 0.9052\n",
            "Epoch 26/80\n",
            "4651/4651 [==============================] - 5s 993us/step - loss: 0.1454 - acc: 0.9499 - val_loss: 0.3910 - val_acc: 0.8859\n",
            "Epoch 27/80\n",
            "4651/4651 [==============================] - 5s 998us/step - loss: 0.1373 - acc: 0.9523 - val_loss: 0.3602 - val_acc: 0.9188\n",
            "Epoch 28/80\n",
            "4651/4651 [==============================] - 5s 1ms/step - loss: 0.1235 - acc: 0.9574 - val_loss: 0.3609 - val_acc: 0.9052\n",
            "Epoch 29/80\n",
            "4651/4651 [==============================] - 5s 1ms/step - loss: 0.1144 - acc: 0.9600 - val_loss: 0.3226 - val_acc: 0.9188\n",
            "Epoch 30/80\n",
            "4651/4651 [==============================] - 5s 994us/step - loss: 0.1123 - acc: 0.9604 - val_loss: 0.3738 - val_acc: 0.9052\n",
            "Epoch 31/80\n",
            "4651/4651 [==============================] - 5s 994us/step - loss: 0.1326 - acc: 0.9529 - val_loss: 0.3319 - val_acc: 0.9188\n",
            "Epoch 32/80\n",
            "4651/4651 [==============================] - 5s 993us/step - loss: 0.1013 - acc: 0.9647 - val_loss: 0.3493 - val_acc: 0.9168\n",
            "Epoch 33/80\n",
            "4651/4651 [==============================] - 5s 1ms/step - loss: 0.1029 - acc: 0.9626 - val_loss: 0.3458 - val_acc: 0.9226\n",
            "Epoch 34/80\n",
            "4651/4651 [==============================] - 5s 984us/step - loss: 0.0978 - acc: 0.9647 - val_loss: 0.3555 - val_acc: 0.9246\n",
            "Epoch 35/80\n",
            "4651/4651 [==============================] - 5s 995us/step - loss: 0.1125 - acc: 0.9574 - val_loss: 0.3705 - val_acc: 0.8994\n",
            "Epoch 36/80\n",
            "4651/4651 [==============================] - 5s 998us/step - loss: 0.0883 - acc: 0.9690 - val_loss: 0.3408 - val_acc: 0.9246\n",
            "Epoch 37/80\n",
            "4651/4651 [==============================] - 5s 1ms/step - loss: 0.0798 - acc: 0.9693 - val_loss: 0.3365 - val_acc: 0.9323\n",
            "Epoch 38/80\n",
            "4651/4651 [==============================] - 5s 974us/step - loss: 0.0794 - acc: 0.9712 - val_loss: 0.3163 - val_acc: 0.9226\n",
            "Epoch 39/80\n",
            "4651/4651 [==============================] - 5s 976us/step - loss: 0.0909 - acc: 0.9667 - val_loss: 0.3746 - val_acc: 0.9091\n",
            "Epoch 40/80\n",
            "4651/4651 [==============================] - 5s 995us/step - loss: 0.0839 - acc: 0.9688 - val_loss: 0.3634 - val_acc: 0.9246\n",
            "Epoch 41/80\n",
            "4651/4651 [==============================] - 5s 985us/step - loss: 0.0677 - acc: 0.9757 - val_loss: 0.3282 - val_acc: 0.9381\n",
            "Epoch 42/80\n",
            "4651/4651 [==============================] - 5s 993us/step - loss: 0.0775 - acc: 0.9716 - val_loss: 0.3217 - val_acc: 0.9362\n",
            "Epoch 43/80\n",
            "4651/4651 [==============================] - 5s 978us/step - loss: 0.0756 - acc: 0.9718 - val_loss: 0.3480 - val_acc: 0.9207\n",
            "Epoch 44/80\n",
            "4651/4651 [==============================] - 5s 982us/step - loss: 0.0586 - acc: 0.9774 - val_loss: 0.3706 - val_acc: 0.9188\n",
            "Epoch 45/80\n",
            "4651/4651 [==============================] - 5s 985us/step - loss: 0.0707 - acc: 0.9725 - val_loss: 0.3684 - val_acc: 0.9207\n",
            "Epoch 46/80\n",
            "4651/4651 [==============================] - 5s 986us/step - loss: 0.0806 - acc: 0.9720 - val_loss: 0.3488 - val_acc: 0.9265\n",
            "Epoch 47/80\n",
            "4651/4651 [==============================] - 5s 979us/step - loss: 0.0612 - acc: 0.9772 - val_loss: 0.3390 - val_acc: 0.9362\n",
            "Epoch 48/80\n",
            "4651/4651 [==============================] - 5s 986us/step - loss: 0.0513 - acc: 0.9811 - val_loss: 0.3581 - val_acc: 0.9149\n",
            "Epoch 49/80\n",
            "4651/4651 [==============================] - 5s 990us/step - loss: 0.0598 - acc: 0.9781 - val_loss: 0.3791 - val_acc: 0.9149\n",
            "Epoch 50/80\n",
            "4651/4651 [==============================] - 5s 1ms/step - loss: 0.1030 - acc: 0.9637 - val_loss: 0.3664 - val_acc: 0.9168\n",
            "Epoch 51/80\n",
            "4651/4651 [==============================] - 5s 993us/step - loss: 0.0581 - acc: 0.9796 - val_loss: 0.3681 - val_acc: 0.9168\n",
            "Epoch 52/80\n",
            "4651/4651 [==============================] - 5s 995us/step - loss: 0.0462 - acc: 0.9845 - val_loss: 0.3389 - val_acc: 0.9439\n",
            "Epoch 53/80\n",
            "4651/4651 [==============================] - 5s 995us/step - loss: 0.0393 - acc: 0.9873 - val_loss: 0.3833 - val_acc: 0.9207\n",
            "Epoch 54/80\n",
            "4651/4651 [==============================] - 5s 995us/step - loss: 0.0431 - acc: 0.9819 - val_loss: 0.3586 - val_acc: 0.9226\n",
            "Epoch 55/80\n",
            "4651/4651 [==============================] - 5s 995us/step - loss: 0.0427 - acc: 0.9845 - val_loss: 0.3777 - val_acc: 0.9226\n",
            "Epoch 56/80\n",
            "4651/4651 [==============================] - 5s 997us/step - loss: 0.0450 - acc: 0.9828 - val_loss: 0.4012 - val_acc: 0.9033\n",
            "Epoch 57/80\n",
            "4651/4651 [==============================] - 5s 994us/step - loss: 0.0493 - acc: 0.9809 - val_loss: 0.3419 - val_acc: 0.9226\n",
            "Epoch 58/80\n",
            "4651/4651 [==============================] - 5s 984us/step - loss: 0.0373 - acc: 0.9869 - val_loss: 0.3697 - val_acc: 0.9246\n",
            "Epoch 59/80\n",
            "4651/4651 [==============================] - 5s 990us/step - loss: 0.0563 - acc: 0.9794 - val_loss: 0.4769 - val_acc: 0.8897\n",
            "Epoch 60/80\n",
            "4651/4651 [==============================] - 5s 972us/step - loss: 0.0823 - acc: 0.9697 - val_loss: 0.4029 - val_acc: 0.9110\n",
            "Epoch 61/80\n",
            "4651/4651 [==============================] - 5s 1ms/step - loss: 0.0415 - acc: 0.9860 - val_loss: 0.3772 - val_acc: 0.9265\n",
            "Epoch 62/80\n",
            "4651/4651 [==============================] - 5s 991us/step - loss: 0.0664 - acc: 0.9751 - val_loss: 0.3657 - val_acc: 0.9226\n",
            "Epoch 63/80\n",
            "4651/4651 [==============================] - 5s 1ms/step - loss: 0.0393 - acc: 0.9839 - val_loss: 0.3680 - val_acc: 0.9284\n",
            "Epoch 64/80\n",
            "4651/4651 [==============================] - 5s 991us/step - loss: 0.0273 - acc: 0.9908 - val_loss: 0.3583 - val_acc: 0.9323\n",
            "Epoch 65/80\n",
            "4651/4651 [==============================] - 5s 993us/step - loss: 0.0280 - acc: 0.9895 - val_loss: 0.3663 - val_acc: 0.9284\n",
            "Epoch 66/80\n",
            "4651/4651 [==============================] - 5s 991us/step - loss: 0.0273 - acc: 0.9908 - val_loss: 0.3865 - val_acc: 0.9265\n",
            "Epoch 67/80\n",
            "4651/4651 [==============================] - 5s 1ms/step - loss: 0.0409 - acc: 0.9871 - val_loss: 0.4095 - val_acc: 0.9168\n",
            "Epoch 68/80\n",
            "4651/4651 [==============================] - 5s 1ms/step - loss: 0.0829 - acc: 0.9708 - val_loss: 0.5914 - val_acc: 0.8839\n",
            "Epoch 69/80\n",
            "4651/4651 [==============================] - 5s 989us/step - loss: 0.0824 - acc: 0.9705 - val_loss: 0.3653 - val_acc: 0.9207\n",
            "Epoch 70/80\n",
            "4651/4651 [==============================] - 5s 988us/step - loss: 0.0282 - acc: 0.9912 - val_loss: 0.3703 - val_acc: 0.9226\n",
            "Epoch 71/80\n",
            "4651/4651 [==============================] - 5s 995us/step - loss: 0.0221 - acc: 0.9918 - val_loss: 0.3689 - val_acc: 0.9304\n",
            "Epoch 72/80\n",
            "4651/4651 [==============================] - 5s 990us/step - loss: 0.0202 - acc: 0.9931 - val_loss: 0.3638 - val_acc: 0.9284\n",
            "Epoch 73/80\n",
            "4651/4651 [==============================] - 5s 1ms/step - loss: 0.0260 - acc: 0.9895 - val_loss: 0.3877 - val_acc: 0.9284\n",
            "Epoch 74/80\n",
            "4651/4651 [==============================] - 5s 999us/step - loss: 0.0215 - acc: 0.9927 - val_loss: 0.3845 - val_acc: 0.9188\n",
            "Epoch 75/80\n",
            "4651/4651 [==============================] - 5s 1ms/step - loss: 0.0221 - acc: 0.9925 - val_loss: 0.3974 - val_acc: 0.9188\n",
            "Epoch 76/80\n",
            "4651/4651 [==============================] - 5s 1000us/step - loss: 0.0303 - acc: 0.9886 - val_loss: 0.4075 - val_acc: 0.9188\n",
            "Epoch 77/80\n",
            "4651/4651 [==============================] - 5s 985us/step - loss: 0.0700 - acc: 0.9776 - val_loss: 0.4482 - val_acc: 0.9033\n",
            "Epoch 78/80\n",
            "4651/4651 [==============================] - 5s 993us/step - loss: 0.0435 - acc: 0.9856 - val_loss: 0.3781 - val_acc: 0.9226\n",
            "Epoch 79/80\n",
            "4651/4651 [==============================] - 5s 995us/step - loss: 0.0426 - acc: 0.9852 - val_loss: 0.3971 - val_acc: 0.9110\n",
            "Epoch 80/80\n",
            "4651/4651 [==============================] - 5s 1ms/step - loss: 0.0324 - acc: 0.9875 - val_loss: 0.3857 - val_acc: 0.9265\n"
          ],
          "name": "stdout"
        }
      ]
    },
    {
      "metadata": {
        "id": "oV2thAxC7D9F",
        "colab_type": "text"
      },
      "cell_type": "markdown",
      "source": [
        "# Plot"
      ]
    },
    {
      "metadata": {
        "id": "geDYzu7F66Da",
        "colab_type": "code",
        "outputId": "57008492-1650-4445-ef18-736c865ba483",
        "colab": {
          "base_uri": "https://localhost:8080/",
          "height": 592
        }
      },
      "cell_type": "code",
      "source": [
        "plt.figure(figsize=(10,10))\n",
        "plt.plot(history.history['loss'], label='train')\n",
        "plt.plot(history.history['val_loss'], label='test')\n",
        "plt.legend()\n",
        "plt.show()"
      ],
      "execution_count": 0,
      "outputs": [
        {
          "output_type": "display_data",
          "data": {
            "image/png": "[encoded data removed]",
            "text/plain": [
              "<Figure size 720x720 with 1 Axes>"
            ]
          },
          "metadata": {
            "tags": []
          }
        }
      ]
    },
    {
      "metadata": {
        "id": "QkRylM0t7HlH",
        "colab_type": "code",
        "outputId": "888244d1-a2ac-4772-83e1-9eae568c4da0",
        "colab": {
          "base_uri": "https://localhost:8080/",
          "height": 592
        }
      },
      "cell_type": "code",
      "source": [
        "plt.figure(figsize=(10,10))\n",
        "plt.plot(history.history['acc'], label='train')\n",
        "plt.plot(history.history['val_acc'], label='test')\n",
        "plt.legend()\n",
        "plt.show()"
      ],
      "execution_count": 0,
      "outputs": [
        {
          "output_type": "display_data",
          "data": {
            "image/png": "[encoded data removed]",
            "text/plain": [
              "<Figure size 720x720 with 1 Axes>"
            ]
          },
          "metadata": {
            "tags": []
          }
        }
      ]
    },
    {
      "metadata": {
        "id": "g0ePVMWH7KIa",
        "colab_type": "text"
      },
      "cell_type": "markdown",
      "source": [
        "# Evaluation"
      ]
    },
    {
      "metadata": {
        "id": "eEiLsQfA7IC2",
        "colab_type": "code",
        "outputId": "69c2c862-742e-4dd2-ed67-7e3e6d8492d4",
        "colab": {
          "base_uri": "https://localhost:8080/",
          "height": 51
        }
      },
      "cell_type": "code",
      "source": [
        "# Evaluation.\n",
        "scores = model.evaluate(x_test, y_test, verbose=0)\n",
        "\n",
        "print('Test loss:', scores[0])\n",
        "print('Test accuracy:', scores[1])"
      ],
      "execution_count": 0,
      "outputs": [
        {
          "output_type": "stream",
          "text": [
            "Test loss: 0.38565606951922526\n",
            "Test accuracy: 0.9264990328820116\n"
          ],
          "name": "stdout"
        }
      ]
    },
    {
      "metadata": {
        "id": "IM3EKOaK7NTd",
        "colab_type": "text"
      },
      "cell_type": "markdown",
      "source": [
        "# Prediction"
      ]
    },
    {
      "metadata": {
        "id": "VLUk9IsK7Obm",
        "colab_type": "code",
        "outputId": "54f84bf5-46aa-4981-c0da-771ee7333f72",
        "colab": {
          "base_uri": "https://localhost:8080/",
          "height": 51
        }
      },
      "cell_type": "code",
      "source": [
        "predicts = model.predict(x_test, verbose=0)\n",
        "predicts = np.argmax(predicts, axis=1)\n",
        "trues = np.argmax(y_test, axis=1)\n",
        "\n",
        "\n",
        "print(predicts.shape)\n",
        "print(trues.shape)"
      ],
      "execution_count": 0,
      "outputs": [
        {
          "output_type": "stream",
          "text": [
            "(517,)\n",
            "(517,)\n"
          ],
          "name": "stdout"
        }
      ]
    },
    {
      "metadata": {
        "id": "ZwG3wDvC7Q12",
        "colab_type": "code",
        "outputId": "b08317b6-2c2d-4996-9400-80efe86e64ba",
        "colab": {
          "base_uri": "https://localhost:8080/",
          "height": 51
        }
      },
      "cell_type": "code",
      "source": [
        "u_numbers = udata['Telephone'].as_matrix()\n",
        "uX = np.zeros((u_numbers.shape[0], mi))\n",
        "             \n",
        "for i in range(u_numbers.shape[0]):\n",
        "    uX[i] = np.array([int(n) for n in str(u_numbers[i])])\n",
        "\n",
        "uX = uX.reshape(uX.shape[0], 1, mi, 1)\n",
        "uP = np.argmax(model.predict(uX, verbose=0), axis=1)\n",
        "\n",
        "print(uX.shape)\n",
        "print(uP.shape)"
      ],
      "execution_count": 0,
      "outputs": [
        {
          "output_type": "stream",
          "text": [
            "(100000, 1, 10, 1)\n",
            "(100000,)\n"
          ],
          "name": "stdout"
        }
      ]
    },
    {
      "metadata": {
        "id": "xrwmq3Cz7Q-D",
        "colab_type": "code",
        "outputId": "d9348c62-ba36-4f00-b13d-32a240044812",
        "colab": {
          "base_uri": "https://localhost:8080/",
          "height": 204
        }
      },
      "cell_type": "code",
      "source": [
        "target_names = ['Customary', 'Bronzy', 'Silvery', 'Golden']\n",
        "udata['Label'] = uP\n",
        "udata['Label'] = udata['Label'].apply(lambda x: target_names[x])\n",
        "udata.head()"
      ],
      "execution_count": 0,
      "outputs": [
        {
          "output_type": "execute_result",
          "data": {
            "text/html": [
              "<div>\n",
              "<style scoped>\n",
              "    .dataframe tbody tr th:only-of-type {\n",
              "        vertical-align: middle;\n",
              "    }\n",
              "\n",
              "    .dataframe tbody tr th {\n",
              "        vertical-align: top;\n",
              "    }\n",
              "\n",
              "    .dataframe thead th {\n",
              "        text-align: right;\n",
              "    }\n",
              "</style>\n",
              "<table border=\"1\" class=\"dataframe\">\n",
              "  <thead>\n",
              "    <tr style=\"text-align: right;\">\n",
              "      <th></th>\n",
              "      <th>Telephone</th>\n",
              "      <th>length</th>\n",
              "      <th>Label</th>\n",
              "    </tr>\n",
              "  </thead>\n",
              "  <tbody>\n",
              "    <tr>\n",
              "      <th>0</th>\n",
              "      <td>9422000000</td>\n",
              "      <td>10</td>\n",
              "      <td>Golden</td>\n",
              "    </tr>\n",
              "    <tr>\n",
              "      <th>1</th>\n",
              "      <td>9422000001</td>\n",
              "      <td>10</td>\n",
              "      <td>Golden</td>\n",
              "    </tr>\n",
              "    <tr>\n",
              "      <th>2</th>\n",
              "      <td>9422000002</td>\n",
              "      <td>10</td>\n",
              "      <td>Golden</td>\n",
              "    </tr>\n",
              "    <tr>\n",
              "      <th>3</th>\n",
              "      <td>9422000003</td>\n",
              "      <td>10</td>\n",
              "      <td>Golden</td>\n",
              "    </tr>\n",
              "    <tr>\n",
              "      <th>4</th>\n",
              "      <td>9422000004</td>\n",
              "      <td>10</td>\n",
              "      <td>Golden</td>\n",
              "    </tr>\n",
              "  </tbody>\n",
              "</table>\n",
              "</div>"
            ],
            "text/plain": [
              "    Telephone  length   Label\n",
              "0  9422000000      10  Golden\n",
              "1  9422000001      10  Golden\n",
              "2  9422000002      10  Golden\n",
              "3  9422000003      10  Golden\n",
              "4  9422000004      10  Golden"
            ]
          },
          "metadata": {
            "tags": []
          },
          "execution_count": 22
        }
      ]
    },
    {
      "metadata": {
        "id": "Jd3nJcaP7XM_",
        "colab_type": "text"
      },
      "cell_type": "markdown",
      "source": [
        "# Predict and Evaluate"
      ]
    },
    {
      "metadata": {
        "id": "JYSlnEjP7RCT",
        "colab_type": "code",
        "outputId": "fe45ebe0-b8df-4398-ed14-2a7dca30d134",
        "colab": {
          "base_uri": "https://localhost:8080/",
          "height": 204
        }
      },
      "cell_type": "code",
      "source": [
        "orgi_x = X.reshape(X.shape[0], 1, mi, 1)\n",
        "orgi_y = Y\n",
        "pred_y = np.argmax(model.predict(orgi_x, verbose=0), axis=1)\n",
        "\n",
        "df = {\n",
        "    'Originals': orgi_y,\n",
        "    'predictions': pred_y,\n",
        "}\n",
        "\n",
        "df_dt = pd.DataFrame(df)\n",
        "df_dt.head()"
      ],
      "execution_count": 0,
      "outputs": [
        {
          "output_type": "execute_result",
          "data": {
            "text/html": [
              "<div>\n",
              "<style scoped>\n",
              "    .dataframe tbody tr th:only-of-type {\n",
              "        vertical-align: middle;\n",
              "    }\n",
              "\n",
              "    .dataframe tbody tr th {\n",
              "        vertical-align: top;\n",
              "    }\n",
              "\n",
              "    .dataframe thead th {\n",
              "        text-align: right;\n",
              "    }\n",
              "</style>\n",
              "<table border=\"1\" class=\"dataframe\">\n",
              "  <thead>\n",
              "    <tr style=\"text-align: right;\">\n",
              "      <th></th>\n",
              "      <th>Originals</th>\n",
              "      <th>predictions</th>\n",
              "    </tr>\n",
              "  </thead>\n",
              "  <tbody>\n",
              "    <tr>\n",
              "      <th>0</th>\n",
              "      <td>0</td>\n",
              "      <td>0</td>\n",
              "    </tr>\n",
              "    <tr>\n",
              "      <th>1</th>\n",
              "      <td>0</td>\n",
              "      <td>0</td>\n",
              "    </tr>\n",
              "    <tr>\n",
              "      <th>2</th>\n",
              "      <td>0</td>\n",
              "      <td>0</td>\n",
              "    </tr>\n",
              "    <tr>\n",
              "      <th>3</th>\n",
              "      <td>0</td>\n",
              "      <td>0</td>\n",
              "    </tr>\n",
              "    <tr>\n",
              "      <th>4</th>\n",
              "      <td>0</td>\n",
              "      <td>0</td>\n",
              "    </tr>\n",
              "  </tbody>\n",
              "</table>\n",
              "</div>"
            ],
            "text/plain": [
              "   Originals  predictions\n",
              "0          0            0\n",
              "1          0            0\n",
              "2          0            0\n",
              "3          0            0\n",
              "4          0            0"
            ]
          },
          "metadata": {
            "tags": []
          },
          "execution_count": 23
        }
      ]
    },
    {
      "metadata": {
        "id": "XPTiNyT87bDm",
        "colab_type": "code",
        "outputId": "45f9d69f-0f85-4a5f-809a-d73312b88bfe",
        "colab": {
          "base_uri": "https://localhost:8080/",
          "height": 204
        }
      },
      "cell_type": "code",
      "source": [
        "from sklearn.metrics import classification_report\n",
        "\n",
        "\n",
        "target_names = ['Customary', 'Bronzy', 'Silvery', 'Golden']\n",
        "print(classification_report(orgi_y, pred_y, target_names=target_names))"
      ],
      "execution_count": 0,
      "outputs": [
        {
          "output_type": "stream",
          "text": [
            "              precision    recall  f1-score   support\n",
            "\n",
            "   Customary       0.99      0.97      0.98       879\n",
            "      Bronzy       0.99      1.00      0.99      2126\n",
            "     Silvery       0.98      0.98      0.98      1282\n",
            "      Golden       0.99      0.97      0.98       881\n",
            "\n",
            "   micro avg       0.99      0.99      0.99      5168\n",
            "   macro avg       0.99      0.98      0.98      5168\n",
            "weighted avg       0.99      0.99      0.99      5168\n",
            "\n"
          ],
          "name": "stdout"
        }
      ]
    },
    {
      "metadata": {
        "id": "4jwrcxeH7cga",
        "colab_type": "text"
      },
      "cell_type": "markdown",
      "source": [
        "# Save the model"
      ]
    },
    {
      "metadata": {
        "id": "uqIMVbSB7bML",
        "colab_type": "code",
        "colab": {}
      },
      "cell_type": "code",
      "source": [
        "import json\n",
        "from keras.models import model_from_json, load_model\n",
        "\n",
        "# Option 1: Save Weights + Architecture\n",
        "model.save_weights(os.path.join(current_dir, 'ds_94220_model_weights.h5'))\n",
        "\n",
        "with open(os.path.join(current_dir, 'ds_94220_model_architecture.json'), 'w') as f:\n",
        "    f.write(model.to_json())\n",
        "    \n",
        "model.save(os.path.join(current_dir, 'ds_94220_model_seq1seq.h5'))\n",
        "\n",
        "udata.to_csv(os.path.join(current_dir, 'ds_94220_labeled-trained.csv'))"
      ],
      "execution_count": 0,
      "outputs": []
    },
    {
      "metadata": {
        "id": "2qzC8jrg_8AO",
        "colab_type": "code",
        "colab": {}
      },
      "cell_type": "code",
      "source": [
        ""
      ],
      "execution_count": 0,
      "outputs": []
    }
  ]
}